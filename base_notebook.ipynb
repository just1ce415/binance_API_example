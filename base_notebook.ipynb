{
 "cells": [
  {
   "attachments": {},
   "cell_type": "markdown",
   "metadata": {},
   "source": [
    "## Task 1"
   ]
  },
  {
   "cell_type": "code",
   "execution_count": null,
   "metadata": {},
   "outputs": [],
   "source": [
    "%pip install python-binance flask plotpy pandas"
   ]
  },
  {
   "cell_type": "code",
   "execution_count": null,
   "metadata": {},
   "outputs": [],
   "source": [
    "## script.py\n",
    "\n",
    "import csv\n",
    "from binance.client import Client\n",
    "\n",
    "api_key = 'your_api_key'\n",
    "api_secret = 'your_api_secret'\n",
    "\n",
    "interval = '1h'  # Interval of collection (1d, 4h, 1h, etc.)\n",
    "symbol = 'BTCUSDT'  # Symbol to collect data about\n",
    "\n",
    "client = Client(api_key, api_secret)\n",
    "\n",
    "# Get candlestick data\n",
    "candles = client.get_klines(symbol=symbol, interval=interval)\n",
    "\n",
    "# Define the CSV file path\n",
    "csv_file = f'{symbol}_{interval}.csv'\n",
    "\n",
    "# Save data to CSV\n",
    "with open(csv_file, 'w', newline='') as file:\n",
    "    writer = csv.writer(file)\n",
    "    writer.writerow(['Open Time', 'Open', 'High', 'Low', 'Close', 'Volume', 'Close Time'])\n",
    "    for candle in candles:\n",
    "        writer.writerow(candle)\n",
    "\n",
    "print(f'Data collected and saved to {csv_file}')\n"
   ]
  },
  {
   "attachments": {},
   "cell_type": "markdown",
   "metadata": {},
   "source": [
    "To deploy and run this script at regular intervals, you can set up a cron job (on Linux) or a scheduled task (on Windows) to execute the script automatically. For example, you can schedule the script to run every 1 hour using a cron job by adding an entry to your crontab file:"
   ]
  },
  {
   "attachments": {},
   "cell_type": "markdown",
   "metadata": {},
   "source": [
    "Bash\n",
    "```bash\n",
    "0 * * * * python /path/to/your/script.py\n",
    "```"
   ]
  },
  {
   "attachments": {},
   "cell_type": "markdown",
   "metadata": {},
   "source": [
    "This will run the script every hour. Adjust the interval as per your requirements.\n",
    "\n",
    "Regarding saving data in a relational database, you can consider using a database management system such as MySQL, PostgreSQL, or SQLite. You would need to create a table with the appropriate columns to store the candlestick data, and then modify the script to insert the data into the database instead of saving it to a CSV file. The exact format and schema depend on the database system you choose. You can use database libraries such as `mysql-connector-python` for MySQL or `psycopg2` for PostgreSQL to connect to the database and execute the necessary SQL statements to insert the data."
   ]
  },
  {
   "attachments": {},
   "cell_type": "markdown",
   "metadata": {},
   "source": [
    "## Task 2"
   ]
  },
  {
   "cell_type": "code",
   "execution_count": null,
   "metadata": {},
   "outputs": [],
   "source": [
    "## app.py\n",
    "\n",
    "from flask import Flask, render_template\n",
    "import plotly.graph_objs as go\n",
    "import pandas as pd\n",
    "\n",
    "app = Flask(__name__)\n",
    "\n",
    "@app.route('/candlestick/<string:symbol>/<string:interval>')\n",
    "def display_candlestick(symbol, interval):\n",
    "    # Read the candlestick data from the CSV file\n",
    "    df = pd.read_csv(f'{symbol}_{interval}.csv')\n",
    "\n",
    "    # Create a Plotly candlestick chart\n",
    "    fig = go.Figure(data=[go.Candlestick(x=df['Open Time'],\n",
    "                                         open=df['Open'],\n",
    "                                         high=df['High'],\n",
    "                                         low=df['Low'],\n",
    "                                         close=df['Close'])])\n",
    "\n",
    "    # Set chart layout\n",
    "    fig.update_layout(title='Candlestick Chart',\n",
    "                      xaxis_rangeslider_visible=False)\n",
    "\n",
    "    # Convert the chart to JSON\n",
    "    chart_json = fig.to_json()\n",
    "\n",
    "    return render_template('candlestick.html', chart_json=chart_json)\n",
    "\n",
    "@app.route('/piechart')\n",
    "def display_piechart():\n",
    "    # Sample market cap data for 10 symbols\n",
    "    symbols = ['BTC', 'ETH', 'XRP', 'LTC', 'ADA', 'DOT', 'LINK', 'BCH', 'BNB', 'XLM']\n",
    "    market_caps = [500, 400, 300, 200, 150, 120, 100, 90, 80, 70]\n",
    "\n",
    "    # Create a Plotly pie chart\n",
    "    fig = go.Figure(data=[go.Pie(labels=symbols, values=market_caps)])\n",
    "\n",
    "    # Set chart layout\n",
    "    fig.update_layout(title='Market Cap Pie Chart')\n",
    "\n",
    "    # Convert the chart to JSON\n",
    "    chart_json = fig.to_json()\n",
    "\n",
    "    return render_template('piechart.html', chart_json=chart_json)\n"
   ]
  },
  {
   "attachments": {},
   "cell_type": "markdown",
   "metadata": {},
   "source": [
    "Create two HTML templates, candlestick.html and piechart.html, in a folder called templates. These templates will render the candlestick and pie charts using Plotly's JavaScript library:"
   ]
  },
  {
   "attachments": {},
   "cell_type": "markdown",
   "metadata": {},
   "source": [
    "<!-- candlestick.html -->\n",
    "<html>\n",
    "<head>\n",
    "    <script src=\"https://cdn.plot.ly/plotly-latest.min.js\"></script>\n",
    "</head>\n",
    "<body>\n",
    "    <div id=\"candlestickChart\"></div>\n",
    "\n",
    "    <script>\n",
    "        // Parse the JSON chart data\n",
    "        var chartData = JSON.parse('{{ chart_json | safe }}');\n",
    "\n",
    "        // Display the candlestick chart\n",
    "        Plotly.newPlot('candlestickChart', chartData.data, chartData.layout);\n",
    "    </script>\n",
    "</body>\n",
    "</html>"
   ]
  },
  {
   "attachments": {},
   "cell_type": "markdown",
   "metadata": {},
   "source": [
    "<!-- piechart.html -->\n",
    "<html>\n",
    "<head>\n",
    "    <script src=\"https://cdn.plot.ly/plotly-latest.min.js\"></script>\n",
    "</head>\n",
    "<body>\n",
    "    <div id=\"pieChart\"></div>\n",
    "\n",
    "    <script>\n",
    "        // Parse the JSON chart data\n",
    "        var chartData = JSON.parse('{{ chart_json | safe }}');\n",
    "\n",
    "        // Display the pie chart\n",
    "        Plotly.newPlot('pieChart', chartData.data, chartData.layout);\n",
    "    </script>\n",
    "</body>\n",
    "</html>"
   ]
  },
  {
   "attachments": {},
   "cell_type": "markdown",
   "metadata": {},
   "source": [
    "Run the Flask application:\n",
    "\n",
    "```bash\n",
    "python app.py\n",
    "```\n",
    "And access the candlestick chart at http://localhost:5000/candlestick/(symbol)/(interval) and the pie chart at http://localhost:5000/piechart in your web browser."
   ]
  },
  {
   "attachments": {},
   "cell_type": "markdown",
   "metadata": {},
   "source": [
    "## Task 3"
   ]
  },
  {
   "attachments": {},
   "cell_type": "markdown",
   "metadata": {},
   "source": [
    "### Data Collection Script\n",
    "\n",
    "1. Install the required dependencies. Make sure you have Python and pip installed. Then, install the necessary packages by running the following command:\n",
    "\n",
    "```bash\n",
    "pip install python-binance pandas\n",
    "```\n",
    "\n",
    "2. Download the script file `script.py`, and open it in a text editor.\n",
    "\n",
    "Set the desired interval and symbol for data collection by modifying the variables in the script:\n",
    "\n",
    "```python\n",
    "interval = '1d'  # Replace with your desired interval, e.g., '4h', '1h'\n",
    "symbol = 'BTCUSDT'  # Replace with your desired symbol, e.g., 'ETHUSDT', 'BNBUSDT'\n",
    "```\n",
    "\n",
    "3. Run the script by executing the following command in the terminal:\n",
    "\n",
    "```python\n",
    "python script.py\n",
    "```\n",
    "\n",
    "The script will collect the data from the Binance API for the specified interval and symbol and save it in a CSV file named `(symbol)_(interval).csv`.\n",
    "\n",
    "### Flask UI\n",
    "\n",
    "1. Install the required dependencies. Make sure you have Python and pip installed. Then, install the necessary packages by running the following command:\n",
    "\n",
    "```bash\n",
    "pip install flask plotly pandas\n",
    "```\n",
    "\n",
    "2. Download the Flask UI files, including `app.py`, `candlestick.html`, and `piechart.html`, and save them in a directory. Put files `candlestick.html`, and `piechart.html` in the /templates directory.\n",
    "\n",
    "Make sure the `(symbol)_(interval).csv` file, generated by the data collection script, is present in the same directory as the Flask UI files.\n",
    "\n",
    "3. Open a terminal or command prompt and navigate to the directory where the Flask UI files are located.\n",
    "\n",
    "Run the Flask application by executing the following command:\n",
    "\n",
    "```bash\n",
    "python app.py\n",
    "```\n",
    "\n",
    "4. Once the application is running, you can access the candlestick chart by opening a web browser and entering the following URL:\n",
    "\n",
    "- http://localhost:5000/candlestick/(symbol)/(interval)\n",
    "\n",
    "You can access the pie chart by entering the following URL:\n",
    "\n",
    "- http://localhost:5000/piechart\n",
    "\n",
    "The candlestick chart will display the data collected from the Binance API, and the pie chart will show market caps for 10 symbols of your choice."
   ]
  }
 ],
 "metadata": {
  "language_info": {
   "name": "python"
  },
  "orig_nbformat": 4
 },
 "nbformat": 4,
 "nbformat_minor": 2
}
